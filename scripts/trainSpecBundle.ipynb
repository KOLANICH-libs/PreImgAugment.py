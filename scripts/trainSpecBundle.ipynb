{
 "cells": [
  {
   "cell_type": "code",
   "execution_count": 2,
   "id": "infrared-implement",
   "metadata": {
    "scrolled": true
   },
   "outputs": [],
   "source": [
    "from genUtils import Pipeline\n",
    "import numpy as np\n",
    "from pathlib import Path\n",
    "from scipy.optimize import differential_evolution\n",
    "from UniOpt import Yabox\n",
    "\n",
    "%matplotlib inline\n",
    "\n",
    "pl = Pipeline()\n",
    "pl([\n",
    "    #\"TranslateX\",\n",
    "    #\"Invert\",\n",
    "    #\"Equalize\",\n",
    "], method=Yabox)"
   ]
  }
 ],
 "metadata": {
  "kernelspec": {
   "display_name": "Python 3",
   "language": "python",
   "name": "python3"
  }
 },
 "nbformat": 4,
 "nbformat_minor": 5
}
